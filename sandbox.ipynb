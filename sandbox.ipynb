{
 "cells": [
  {
   "cell_type": "code",
   "execution_count": 1,
   "metadata": {},
   "outputs": [],
   "source": [
    "#!pip install loguru\n",
    "#!pip install pytz"
   ]
  },
  {
   "cell_type": "code",
   "execution_count": 2,
   "metadata": {},
   "outputs": [],
   "source": [
    "import calendar_service"
   ]
  },
  {
   "cell_type": "code",
   "execution_count": 3,
   "metadata": {},
   "outputs": [],
   "source": [
    "calendarService = calendar_service.CalendarService()"
   ]
  },
  {
   "cell_type": "code",
   "execution_count": 4,
   "metadata": {},
   "outputs": [
    {
     "name": "stdout",
     "output_type": "stream",
     "text": [
      "<class 'pytz.UTC'>\n"
     ]
    },
    {
     "data": {
      "text/plain": [
       "<UTC>"
      ]
     },
     "execution_count": 4,
     "metadata": {},
     "output_type": "execute_result"
    }
   ],
   "source": [
    "print(type(calendarService.timezone))\n",
    "calendarService.timezone"
   ]
  },
  {
   "cell_type": "code",
   "execution_count": 5,
   "metadata": {},
   "outputs": [
    {
     "data": {
      "text/plain": [
       "'2025-03-30T21:04:12.967682+00:00'"
      ]
     },
     "execution_count": 5,
     "metadata": {},
     "output_type": "execute_result"
    }
   ],
   "source": [
    "calendarService.get_current_datetime()"
   ]
  },
  {
   "cell_type": "code",
   "execution_count": 6,
   "metadata": {},
   "outputs": [
    {
     "name": "stderr",
     "output_type": "stream",
     "text": [
      "\u001b[32m2025-03-31 00:04:12.992\u001b[0m | \u001b[1mINFO    \u001b[0m | \u001b[36mcalendar_service\u001b[0m:\u001b[36mset_timezone\u001b[0m:\u001b[36m48\u001b[0m - \u001b[1mTimezone updated to Europe/Istanbul\u001b[0m\n"
     ]
    }
   ],
   "source": [
    "calendarService.set_timezone(\"Europe/Istanbul\")"
   ]
  },
  {
   "cell_type": "code",
   "execution_count": 7,
   "metadata": {},
   "outputs": [
    {
     "data": {
      "text/plain": [
       "'2025-03-31T00:04:13.000885+03:00'"
      ]
     },
     "execution_count": 7,
     "metadata": {},
     "output_type": "execute_result"
    }
   ],
   "source": [
    "calendarService.get_current_datetime()"
   ]
  },
  {
   "cell_type": "code",
   "execution_count": 8,
   "metadata": {},
   "outputs": [
    {
     "data": {
      "text/plain": [
       "\"Event 'Progress meeting' from 2025-03-24T17:00:00+03:00 to 2025-03-24T18:00:00+03:00\\nEvent 'Progress meeting' from 2025-03-26T14:00:00+03:00 to 2025-03-26T15:00:00+03:00\\nEvent 'Test Meeting' from 2025-03-27T01:19:52+03:00 to 2025-03-27T02:19:52+03:00\\nEvent 'Progress meeting' from 2025-03-28T14:00:00+03:00 to 2025-03-28T15:00:00+03:00\""
      ]
     },
     "execution_count": 8,
     "metadata": {},
     "output_type": "execute_result"
    }
   ],
   "source": [
    "calendarService.get_events()"
   ]
  },
  {
   "cell_type": "code",
   "execution_count": 12,
   "metadata": {},
   "outputs": [
    {
     "name": "stderr",
     "output_type": "stream",
     "text": [
      "\u001b[32m2025-03-31 00:06:26.724\u001b[0m | \u001b[34m\u001b[1mDEBUG   \u001b[0m | \u001b[36mcalendar_service\u001b[0m:\u001b[36mget_free_availability\u001b[0m:\u001b[36m150\u001b[0m - \u001b[34m\u001b[1mQuerying between 2025-03-30T21:00:00Z and 2025-03-31T20:59:59Z (converted from local timezone)\u001b[0m\n"
     ]
    },
    {
     "data": {
      "text/plain": [
       "'Free from 2025-03-31T00:00:00+03:00 to 2025-03-31T14:00:00+03:00\\nFree from 2025-03-31T15:00:00+03:00 to 2025-03-31T15:30:00+03:00\\nFree from 2025-03-31T16:15:00+03:00 to 2025-03-31T16:30:00+03:00\\nFree from 2025-03-31T17:15:00+03:00 to 2025-03-31T23:59:59+03:00'"
      ]
     },
     "execution_count": 12,
     "metadata": {},
     "output_type": "execute_result"
    }
   ],
   "source": [
    "calendarService.get_free_availability(\n",
    "    time_min=\"2025-03-31T00:00:00\",\n",
    "    time_max=\"2025-03-31T23:59:59\"\n",
    ")\n"
   ]
  },
  {
   "cell_type": "code",
   "execution_count": 11,
   "metadata": {},
   "outputs": [
    {
     "name": "stderr",
     "output_type": "stream",
     "text": [
      "\u001b[32m2025-03-31 00:05:04.863\u001b[0m | \u001b[1mINFO    \u001b[0m | \u001b[36mcalendar_service\u001b[0m:\u001b[36mcreate_event\u001b[0m:\u001b[36m127\u001b[0m - \u001b[1mCreated event 'Team Sync' at 2025-03-31T16:30:00+03:00 lasting 45 minutes. Link: https://www.google.com/calendar/event?eid=bWRuMmNuMzZydG9ubGluNTFhaXNraXRmaTggZWdlQG5hbm9taW5kcy5haQ\u001b[0m\n"
     ]
    },
    {
     "data": {
      "text/plain": [
       "\"Created event 'Team Sync' at 2025-03-31T16:30:00+03:00 lasting 45 minutes. Link: https://www.google.com/calendar/event?eid=bWRuMmNuMzZydG9ubGluNTFhaXNraXRmaTggZWdlQG5hbm9taW5kcy5haQ\""
      ]
     },
     "execution_count": 11,
     "metadata": {},
     "output_type": "execute_result"
    }
   ],
   "source": [
    "calendarService.create_event(\n",
    "    summary=\"Team Sync\",\n",
    "    start_time=\"2025-03-31T16:30:00\",\n",
    "    duration_minutes=45,\n",
    "    description=\"Weekly check-in\",\n",
    "    attendees=[\"amasya485@gmail.com\"]\n",
    ")\n"
   ]
  }
 ],
 "metadata": {
  "kernelspec": {
   "display_name": "calendarAPI",
   "language": "python",
   "name": "python3"
  },
  "language_info": {
   "codemirror_mode": {
    "name": "ipython",
    "version": 3
   },
   "file_extension": ".py",
   "mimetype": "text/x-python",
   "name": "python",
   "nbconvert_exporter": "python",
   "pygments_lexer": "ipython3",
   "version": "3.10.11"
  }
 },
 "nbformat": 4,
 "nbformat_minor": 2
}
