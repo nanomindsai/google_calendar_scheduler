{
 "cells": [
  {
   "cell_type": "code",
   "execution_count": 1,
   "metadata": {},
   "outputs": [],
   "source": [
    "import datetime\n",
    "import os.path\n",
    "\n",
    "from google.auth.transport.requests import Request\n",
    "from google.oauth2.credentials import Credentials\n",
    "from google_auth_oauthlib.flow import InstalledAppFlow\n",
    "from googleapiclient.discovery import build\n",
    "from googleapiclient.errors import HttpError"
   ]
  },
  {
   "cell_type": "code",
   "execution_count": 2,
   "metadata": {},
   "outputs": [],
   "source": [
    "### SCOPES = [\"https://www.googleapis.com/auth/calendar.readonly\"]\n",
    "SCOPES = [\"https://www.googleapis.com/auth/calendar\"] ## read and write scope"
   ]
  },
  {
   "cell_type": "code",
   "execution_count": 3,
   "metadata": {},
   "outputs": [
    {
     "name": "stdout",
     "output_type": "stream",
     "text": [
      "Please visit this URL to authorize this application: https://accounts.google.com/o/oauth2/auth?response_type=code&client_id=437371744632-iqam1opjo9ica41nudi1du5bv1tu0dii.apps.googleusercontent.com&redirect_uri=http%3A%2F%2Flocalhost%3A61906%2F&scope=https%3A%2F%2Fwww.googleapis.com%2Fauth%2Fcalendar&state=ya9s5ZVUw2UmBKUKYkZattNjyWKiV5&access_type=offline\n",
      "Getting the upcoming 10 events\n",
      "2025-03-24T14:00:00+03:00 Progress meeting\n",
      "2025-03-26T14:00:00+03:00 Progress meeting\n",
      "2025-03-28T14:00:00+03:00 Progress meeting\n",
      "2025-03-31T14:00:00+03:00 Progress meeting\n",
      "2025-04-02T14:00:00+03:00 Progress meeting\n",
      "2025-04-04T14:00:00+03:00 Progress meeting\n",
      "2025-04-07T14:00:00+03:00 Progress meeting\n",
      "2025-04-09T14:00:00+03:00 Progress meeting\n",
      "2025-04-11T14:00:00+03:00 Progress meeting\n",
      "2025-04-14T14:00:00+03:00 Progress meeting\n"
     ]
    }
   ],
   "source": [
    "\"\"\"Shows basic usage of the Google Calendar API.\n",
    "Prints the start and name of the next 10 events on the user's calendar.\n",
    "  \"\"\"\n",
    "creds = None\n",
    "  # The file token.json stores the user's access and refresh tokens, and is\n",
    "  # created automatically when the authorization flow completes for the first\n",
    "  # time.\n",
    "if os.path.exists(\"token.json\"):\n",
    "    creds = Credentials.from_authorized_user_file(\"token.json\", SCOPES)\n",
    "  # If there are no (valid) credentials available, let the user log in.\n",
    "if not creds or not creds.valid:\n",
    "    if creds and creds.expired and creds.refresh_token:\n",
    "      creds.refresh(Request())\n",
    "    else:\n",
    "      flow = InstalledAppFlow.from_client_secrets_file(\n",
    "          \"credentials.json\", SCOPES\n",
    "      )\n",
    "      creds = flow.run_local_server(port=0)\n",
    "    # Save the credentials for the next run\n",
    "    with open(\"token.json\", \"w\") as token:\n",
    "      token.write(creds.to_json())\n",
    "\n",
    "try:\n",
    "    service = build(\"calendar\", \"v3\", credentials=creds)\n",
    "\n",
    "    # Call the Calendar API\n",
    "    now = datetime.datetime.utcnow().isoformat() + \"Z\"  # 'Z' indicates UTC time\n",
    "    print(\"Getting the upcoming 10 events\")\n",
    "    events_result = (\n",
    "        service.events()\n",
    "        .list(\n",
    "            calendarId=\"primary\",\n",
    "            timeMin=now,\n",
    "            maxResults=10,\n",
    "            singleEvents=True,\n",
    "            orderBy=\"startTime\",\n",
    "        )\n",
    "        .execute()\n",
    "    )\n",
    "    events = events_result.get(\"items\", [])\n",
    "\n",
    "    if not events:\n",
    "      print(\"No upcoming events found.\")\n",
    "\n",
    "    # Prints the start and name of the next 10 events\n",
    "    for event in events:\n",
    "      start = event[\"start\"].get(\"dateTime\", event[\"start\"].get(\"date\"))\n",
    "      print(start, event[\"summary\"])\n",
    "\n",
    "except HttpError as error:\n",
    "    print(f\"An error occurred: {error}\")"
   ]
  },
  {
   "cell_type": "code",
   "execution_count": 4,
   "metadata": {},
   "outputs": [
    {
     "data": {
      "text/plain": [
       "{'kind': 'calendar#calendarList',\n",
       " 'etag': '\"p33fsbd5onieoo0o\"',\n",
       " 'nextSyncToken': 'CN_FtLi8nYwDEhBlZ2VAbmFub21pbmRzLmFp',\n",
       " 'items': [{'kind': 'calendar#calendarListEntry',\n",
       "   'etag': '\"1741983107837608\"',\n",
       "   'id': 'ege@nanominds.ai',\n",
       "   'summary': 'ege@nanominds.ai',\n",
       "   'timeZone': 'Europe/Istanbul',\n",
       "   'colorId': '14',\n",
       "   'backgroundColor': '#9fe1e7',\n",
       "   'foregroundColor': '#000000',\n",
       "   'selected': True,\n",
       "   'accessRole': 'owner',\n",
       "   'defaultReminders': [{'method': 'popup', 'minutes': 10}],\n",
       "   'notificationSettings': {'notifications': [{'type': 'eventCreation',\n",
       "      'method': 'email'},\n",
       "     {'type': 'eventChange', 'method': 'email'},\n",
       "     {'type': 'eventCancellation', 'method': 'email'},\n",
       "     {'type': 'eventResponse', 'method': 'email'}]},\n",
       "   'primary': True,\n",
       "   'conferenceProperties': {'allowedConferenceSolutionTypes': ['hangoutsMeet']}},\n",
       "  {'kind': 'calendar#calendarListEntry',\n",
       "   'etag': '\"1742565729978927\"',\n",
       "   'id': 'en.turkish#holiday@group.v.calendar.google.com',\n",
       "   'summary': 'Holidays in Turkey',\n",
       "   'description': 'Holidays and Observances in Turkey',\n",
       "   'timeZone': 'Europe/Istanbul',\n",
       "   'colorId': '8',\n",
       "   'backgroundColor': '#16a765',\n",
       "   'foregroundColor': '#000000',\n",
       "   'selected': True,\n",
       "   'accessRole': 'reader',\n",
       "   'defaultReminders': [],\n",
       "   'conferenceProperties': {'allowedConferenceSolutionTypes': ['hangoutsMeet']}}]}"
      ]
     },
     "execution_count": 4,
     "metadata": {},
     "output_type": "execute_result"
    }
   ],
   "source": [
    "service.calendarList().list().execute()"
   ]
  },
  {
   "cell_type": "code",
   "execution_count": 5,
   "metadata": {},
   "outputs": [
    {
     "data": {
      "text/plain": [
       "{'kind': 'calendar#calendarListEntry',\n",
       " 'etag': '\"1741983107837608\"',\n",
       " 'id': 'ege@nanominds.ai',\n",
       " 'summary': 'ege@nanominds.ai',\n",
       " 'timeZone': 'Europe/Istanbul',\n",
       " 'colorId': '14',\n",
       " 'backgroundColor': '#9fe1e7',\n",
       " 'foregroundColor': '#000000',\n",
       " 'selected': True,\n",
       " 'accessRole': 'owner',\n",
       " 'defaultReminders': [{'method': 'popup', 'minutes': 10}],\n",
       " 'notificationSettings': {'notifications': [{'type': 'eventCreation',\n",
       "    'method': 'email'},\n",
       "   {'type': 'eventChange', 'method': 'email'},\n",
       "   {'type': 'eventCancellation', 'method': 'email'},\n",
       "   {'type': 'eventResponse', 'method': 'email'}]},\n",
       " 'primary': True,\n",
       " 'conferenceProperties': {'allowedConferenceSolutionTypes': ['hangoutsMeet']}}"
      ]
     },
     "execution_count": 5,
     "metadata": {},
     "output_type": "execute_result"
    }
   ],
   "source": [
    "service.calendarList().get(calendarId='ege@nanominds.ai').execute()\n",
    "### service.calendarList().get(calendarId='primary').execute(): same for now"
   ]
  },
  {
   "cell_type": "code",
   "execution_count": 10,
   "metadata": {},
   "outputs": [
    {
     "name": "stdout",
     "output_type": "stream",
     "text": [
      "ege@nanominds.ai\n",
      "Holidays in Turkey\n"
     ]
    }
   ],
   "source": [
    "page_token = None\n",
    "while True:\n",
    "  calendar_list = service.calendarList().list(pageToken=page_token).execute()\n",
    "  for calendar_list_entry in calendar_list['items']:\n",
    "    print(calendar_list_entry['summary'])\n",
    "  page_token = calendar_list.get('nextPageToken')\n",
    "  if not page_token:\n",
    "    break"
   ]
  },
  {
   "cell_type": "code",
   "execution_count": 8,
   "metadata": {},
   "outputs": [
    {
     "name": "stdout",
     "output_type": "stream",
     "text": [
      "Event created: https://www.google.com/calendar/event?eid=anNrYnYwZWhxNHZ1M3BiZjFwOWtzMG10aDRfMjAxNTA1MjhUMTYwMDAwWiBlZ2VAbmFub21pbmRzLmFp\n",
      "Google I/O 2015 2015-05-28T19:00:00+03:00 2015-05-29T03:00:00+03:00\n"
     ]
    }
   ],
   "source": [
    "event = {\n",
    "  'summary': 'Google I/O 2015',\n",
    "  'location': '800 Howard St., San Francisco, CA 94103',\n",
    "  'description': 'A chance to hear more about Google\\'s developer products.',\n",
    "  'start': {\n",
    "    'dateTime': '2015-05-28T09:00:00-07:00',\n",
    "    'timeZone': 'America/Los_Angeles',\n",
    "  },\n",
    "  'end': {\n",
    "    'dateTime': '2015-05-28T17:00:00-07:00',\n",
    "    'timeZone': 'America/Los_Angeles',\n",
    "  },\n",
    "  'recurrence': [\n",
    "    'RRULE:FREQ=DAILY;COUNT=2'\n",
    "  ],\n",
    "  'attendees': [\n",
    "    {'email': 'lpage@example.com'},\n",
    "    {'email': 'sbrin@example.com'},\n",
    "  ],\n",
    "  'reminders': {\n",
    "    'useDefault': False,\n",
    "    'overrides': [\n",
    "      {'method': 'email', 'minutes': 24 * 60},\n",
    "      {'method': 'popup', 'minutes': 10},\n",
    "    ],\n",
    "  },\n",
    "}\n",
    "\n",
    "event = service.events().insert(calendarId='primary', body=event).execute()\n",
    "print('Event created: %s' % (event.get('htmlLink')))\n",
    "print(event['summary'], event['start']['dateTime'], event['end']['dateTime']) "
   ]
  },
  {
   "cell_type": "code",
   "execution_count": null,
   "metadata": {},
   "outputs": [],
   "source": []
  }
 ],
 "metadata": {
  "kernelspec": {
   "display_name": "calendarAPI",
   "language": "python",
   "name": "python3"
  },
  "language_info": {
   "codemirror_mode": {
    "name": "ipython",
    "version": 3
   },
   "file_extension": ".py",
   "mimetype": "text/x-python",
   "name": "python",
   "nbconvert_exporter": "python",
   "pygments_lexer": "ipython3",
   "version": "3.10.11"
  }
 },
 "nbformat": 4,
 "nbformat_minor": 2
}
